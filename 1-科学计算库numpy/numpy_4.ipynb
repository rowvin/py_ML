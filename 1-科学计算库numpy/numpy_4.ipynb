{
 "cells": [
  {
   "cell_type": "code",
   "execution_count": 1,
   "metadata": {},
   "outputs": [
    {
     "name": "stdout",
     "output_type": "stream",
     "text": [
      "[0 1 2]\n",
      "[ 0.          1.          1.41421356]\n"
     ]
    }
   ],
   "source": [
    "import numpy as np\n",
    "B = np.arange(3)\n",
    "print(B)\n",
    "#print np.exp(B)\n",
    "print(np.sqrt(B))"
   ]
  },
  {
   "cell_type": "code",
   "execution_count": 4,
   "metadata": {
    "scrolled": true
   },
   "outputs": [
    {
     "name": "stdout",
     "output_type": "stream",
     "text": [
      "[[ 9.  1.  2.  8.]\n",
      " [ 4.  3.  5.  3.]\n",
      " [ 2.  6.  3.  2.]]\n",
      "(3, 4)\n",
      "[ 9.  1.  2.  8.  4.  3.  5.  3.  2.  6.  3.  2.]\n",
      "[[ 9.  1.]\n",
      " [ 2.  8.]\n",
      " [ 4.  3.]\n",
      " [ 5.  3.]\n",
      " [ 2.  6.]\n",
      " [ 3.  2.]]\n",
      "[[ 9.  2.  4.  5.  2.  3.]\n",
      " [ 1.  8.  3.  3.  6.  2.]]\n",
      "[[ 9.  1.  2.  8.  4.  3.]\n",
      " [ 5.  3.  2.  6.  3.  2.]]\n"
     ]
    }
   ],
   "source": [
    "#Return the floor of the input\n",
    "a = np.floor(10*np.random.random((3,4)))\n",
    "print(a)\n",
    "\n",
    "print(a.shape)\n",
    "## flatten the array\n",
    "print(a.ravel())\n",
    "a.shape = (6, 2)\n",
    "print(a) \n",
    "print(a.T)\n",
    "a.resize((2,6))\n",
    "print(a)\n",
    "\n",
    "#If a dimension is given as -1 in a reshaping operation, the other dimensions are automatically calculated:\n",
    "#a.reshape(3,-1)"
   ]
  },
  {
   "cell_type": "code",
   "execution_count": 7,
   "metadata": {},
   "outputs": [
    {
     "name": "stdout",
     "output_type": "stream",
     "text": [
      "[[ 0.  0.]\n",
      " [ 2.  9.]]\n",
      "---------------\n",
      "[[ 1.  8.]\n",
      " [ 9.  4.]]\n",
      "---------------\n",
      "[[ 0.  0.  1.  8.]\n",
      " [ 2.  9.  9.  4.]]\n"
     ]
    }
   ],
   "source": [
    "a = np.floor(10*np.random.random((2,2)))\n",
    "b = np.floor(10*np.random.random((2,2)))\n",
    "print(a)\n",
    "print('---'*5)\n",
    "print(b)\n",
    "print('---'*5)\n",
    "print(np.hstack((a,b))) #水平组合\n",
    "#np.hstack((a,b))"
   ]
  },
  {
   "cell_type": "code",
   "execution_count": 37,
   "metadata": {},
   "outputs": [
    {
     "name": "stdout",
     "output_type": "stream",
     "text": [
      "[[ 5.  2.]\n",
      " [ 1.  3.]\n",
      " [ 9.  6.]\n",
      " [ 2.  2.]\n",
      " [ 7.  2.]\n",
      " [ 8.  2.]\n",
      " [ 1.  7.]\n",
      " [ 2.  8.]\n",
      " [ 4.  4.]\n",
      " [ 8.  5.]\n",
      " [ 4.  3.]\n",
      " [ 2.  3.]]\n"
     ]
    },
    {
     "data": {
      "text/plain": [
       "[array([[ 5.,  2.],\n",
       "        [ 1.,  3.],\n",
       "        [ 9.,  6.],\n",
       "        [ 2.,  2.]]), array([[ 7.,  2.],\n",
       "        [ 8.,  2.],\n",
       "        [ 1.,  7.],\n",
       "        [ 2.,  8.]]), array([[ 4.,  4.],\n",
       "        [ 8.,  5.],\n",
       "        [ 4.,  3.],\n",
       "        [ 2.,  3.]])]"
      ]
     },
     "execution_count": 37,
     "metadata": {},
     "output_type": "execute_result"
    }
   ],
   "source": [
    "a = np.floor(10*np.random.random((2,12)))\n",
    "#print a\n",
    "#print np.hsplit(a,3)\n",
    "#print np.hsplit(a,(3,4))   # Split a after the third and the fourth column\n",
    "a = np.floor(10*np.random.random((12,2)))\n",
    "print a\n",
    "np.vsplit(a,3) #垂直拆分"
   ]
  },
  {
   "cell_type": "code",
   "execution_count": 9,
   "metadata": {},
   "outputs": [
    {
     "name": "stdout",
     "output_type": "stream",
     "text": [
      "(3, 4)\n",
      "94787744\n",
      "94787744\n"
     ]
    }
   ],
   "source": [
    "#Simple assignments make no copy of array objects or of their data.\n",
    "a = np.arange(12)\n",
    "b = a #同一对象的不同别名。\n",
    "# a and b are two names for the same ndarray object\n",
    "b is a\n",
    "b.shape = 3,4\n",
    "print(a.shape)\n",
    "print(id(a))\n",
    "print(id(b))"
   ]
  },
  {
   "cell_type": "code",
   "execution_count": 10,
   "metadata": {},
   "outputs": [
    {
     "name": "stdout",
     "output_type": "stream",
     "text": [
      "94787744\n",
      "94785984\n"
     ]
    },
    {
     "data": {
      "text/plain": [
       "array([[   0,    1,    2,    3],\n",
       "       [1234,    5,    6,    7],\n",
       "       [   8,    9,   10,   11]])"
      ]
     },
     "execution_count": 10,
     "metadata": {},
     "output_type": "execute_result"
    }
   ],
   "source": [
    "#The view method creates a new array object that looks at the same data.\n",
    "c = a.view()#创建新的array对象，但改变其中的内容会影响之前的内容。\n",
    "c is a\n",
    "print(id(a))\n",
    "print(id(c))\n",
    "c.shape = 2,6\n",
    "#print a.shape\n",
    "c[0,4] = 1234\n",
    "a"
   ]
  },
  {
   "cell_type": "code",
   "execution_count": 13,
   "metadata": {},
   "outputs": [
    {
     "name": "stdout",
     "output_type": "stream",
     "text": [
      "False\n",
      "94787744\n",
      "94877536\n",
      "[[9999    1    2    3]\n",
      " [1234    5    6    7]\n",
      " [   8    9   10   11]]\n",
      "[[   0    1    2    3]\n",
      " [1234    5    6    7]\n",
      " [   8    9   10   11]]\n"
     ]
    }
   ],
   "source": [
    "#The copy method makes a complete copy of the array and its data.\n",
    "d = a.copy() #完全的拷贝，是不同的对象。\n",
    "print(d is a)\n",
    "print(id(a))\n",
    "print(id(d))\n",
    "d[0,0] = 9999\n",
    "print(d) \n",
    "print(a)"
   ]
  },
  {
   "cell_type": "code",
   "execution_count": null,
   "metadata": {
    "collapsed": true
   },
   "outputs": [],
   "source": []
  }
 ],
 "metadata": {
  "kernelspec": {
   "display_name": "Python 3",
   "language": "python",
   "name": "python3"
  },
  "language_info": {
   "codemirror_mode": {
    "name": "ipython",
    "version": 3
   },
   "file_extension": ".py",
   "mimetype": "text/x-python",
   "name": "python",
   "nbconvert_exporter": "python",
   "pygments_lexer": "ipython3",
   "version": "3.6.2"
  }
 },
 "nbformat": 4,
 "nbformat_minor": 1
}
